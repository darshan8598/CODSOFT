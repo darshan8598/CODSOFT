{
 "cells": [
  {
   "cell_type": "code",
   "execution_count": 1,
   "id": "7f2b3697",
   "metadata": {},
   "outputs": [],
   "source": [
    "#import libraries\n",
    "import pandas as pd\n",
    "import numpy as np\n",
    "import matplotlib.pyplot as plt\n",
    "import seaborn as sns\n",
    "import warnings\n",
    "warnings.filterwarnings('ignore')"
   ]
  },
  {
   "cell_type": "code",
   "execution_count": 2,
   "id": "58b604b5",
   "metadata": {},
   "outputs": [],
   "source": [
    "#load dataset\n",
    "df=pd.read_csv('advertising (1).csv')"
   ]
  },
  {
   "cell_type": "code",
   "execution_count": 3,
   "id": "3f43a2c7",
   "metadata": {},
   "outputs": [
    {
     "data": {
      "text/html": [
       "<div>\n",
       "<style scoped>\n",
       "    .dataframe tbody tr th:only-of-type {\n",
       "        vertical-align: middle;\n",
       "    }\n",
       "\n",
       "    .dataframe tbody tr th {\n",
       "        vertical-align: top;\n",
       "    }\n",
       "\n",
       "    .dataframe thead th {\n",
       "        text-align: right;\n",
       "    }\n",
       "</style>\n",
       "<table border=\"1\" class=\"dataframe\">\n",
       "  <thead>\n",
       "    <tr style=\"text-align: right;\">\n",
       "      <th></th>\n",
       "      <th>TV</th>\n",
       "      <th>Radio</th>\n",
       "      <th>Newspaper</th>\n",
       "      <th>Sales</th>\n",
       "    </tr>\n",
       "  </thead>\n",
       "  <tbody>\n",
       "    <tr>\n",
       "      <th>0</th>\n",
       "      <td>230.1</td>\n",
       "      <td>37.8</td>\n",
       "      <td>69.2</td>\n",
       "      <td>22.1</td>\n",
       "    </tr>\n",
       "    <tr>\n",
       "      <th>1</th>\n",
       "      <td>44.5</td>\n",
       "      <td>39.3</td>\n",
       "      <td>45.1</td>\n",
       "      <td>10.4</td>\n",
       "    </tr>\n",
       "    <tr>\n",
       "      <th>2</th>\n",
       "      <td>17.2</td>\n",
       "      <td>45.9</td>\n",
       "      <td>69.3</td>\n",
       "      <td>12.0</td>\n",
       "    </tr>\n",
       "    <tr>\n",
       "      <th>3</th>\n",
       "      <td>151.5</td>\n",
       "      <td>41.3</td>\n",
       "      <td>58.5</td>\n",
       "      <td>16.5</td>\n",
       "    </tr>\n",
       "    <tr>\n",
       "      <th>4</th>\n",
       "      <td>180.8</td>\n",
       "      <td>10.8</td>\n",
       "      <td>58.4</td>\n",
       "      <td>17.9</td>\n",
       "    </tr>\n",
       "    <tr>\n",
       "      <th>...</th>\n",
       "      <td>...</td>\n",
       "      <td>...</td>\n",
       "      <td>...</td>\n",
       "      <td>...</td>\n",
       "    </tr>\n",
       "    <tr>\n",
       "      <th>195</th>\n",
       "      <td>38.2</td>\n",
       "      <td>3.7</td>\n",
       "      <td>13.8</td>\n",
       "      <td>7.6</td>\n",
       "    </tr>\n",
       "    <tr>\n",
       "      <th>196</th>\n",
       "      <td>94.2</td>\n",
       "      <td>4.9</td>\n",
       "      <td>8.1</td>\n",
       "      <td>14.0</td>\n",
       "    </tr>\n",
       "    <tr>\n",
       "      <th>197</th>\n",
       "      <td>177.0</td>\n",
       "      <td>9.3</td>\n",
       "      <td>6.4</td>\n",
       "      <td>14.8</td>\n",
       "    </tr>\n",
       "    <tr>\n",
       "      <th>198</th>\n",
       "      <td>283.6</td>\n",
       "      <td>42.0</td>\n",
       "      <td>66.2</td>\n",
       "      <td>25.5</td>\n",
       "    </tr>\n",
       "    <tr>\n",
       "      <th>199</th>\n",
       "      <td>232.1</td>\n",
       "      <td>8.6</td>\n",
       "      <td>8.7</td>\n",
       "      <td>18.4</td>\n",
       "    </tr>\n",
       "  </tbody>\n",
       "</table>\n",
       "<p>200 rows × 4 columns</p>\n",
       "</div>"
      ],
      "text/plain": [
       "        TV  Radio  Newspaper  Sales\n",
       "0    230.1   37.8       69.2   22.1\n",
       "1     44.5   39.3       45.1   10.4\n",
       "2     17.2   45.9       69.3   12.0\n",
       "3    151.5   41.3       58.5   16.5\n",
       "4    180.8   10.8       58.4   17.9\n",
       "..     ...    ...        ...    ...\n",
       "195   38.2    3.7       13.8    7.6\n",
       "196   94.2    4.9        8.1   14.0\n",
       "197  177.0    9.3        6.4   14.8\n",
       "198  283.6   42.0       66.2   25.5\n",
       "199  232.1    8.6        8.7   18.4\n",
       "\n",
       "[200 rows x 4 columns]"
      ]
     },
     "execution_count": 3,
     "metadata": {},
     "output_type": "execute_result"
    }
   ],
   "source": [
    "df"
   ]
  },
  {
   "cell_type": "code",
   "execution_count": 4,
   "id": "2de73ed7",
   "metadata": {},
   "outputs": [
    {
     "name": "stdout",
     "output_type": "stream",
     "text": [
      "<class 'pandas.core.frame.DataFrame'>\n",
      "RangeIndex: 200 entries, 0 to 199\n",
      "Data columns (total 4 columns):\n",
      " #   Column     Non-Null Count  Dtype  \n",
      "---  ------     --------------  -----  \n",
      " 0   TV         200 non-null    float64\n",
      " 1   Radio      200 non-null    float64\n",
      " 2   Newspaper  200 non-null    float64\n",
      " 3   Sales      200 non-null    float64\n",
      "dtypes: float64(4)\n",
      "memory usage: 6.4 KB\n"
     ]
    }
   ],
   "source": [
    "df.info()"
   ]
  },
  {
   "cell_type": "code",
   "execution_count": 5,
   "id": "ed211801",
   "metadata": {},
   "outputs": [
    {
     "data": {
      "text/html": [
       "<div>\n",
       "<style scoped>\n",
       "    .dataframe tbody tr th:only-of-type {\n",
       "        vertical-align: middle;\n",
       "    }\n",
       "\n",
       "    .dataframe tbody tr th {\n",
       "        vertical-align: top;\n",
       "    }\n",
       "\n",
       "    .dataframe thead th {\n",
       "        text-align: right;\n",
       "    }\n",
       "</style>\n",
       "<table border=\"1\" class=\"dataframe\">\n",
       "  <thead>\n",
       "    <tr style=\"text-align: right;\">\n",
       "      <th></th>\n",
       "      <th>TV</th>\n",
       "      <th>Radio</th>\n",
       "      <th>Newspaper</th>\n",
       "      <th>Sales</th>\n",
       "    </tr>\n",
       "  </thead>\n",
       "  <tbody>\n",
       "    <tr>\n",
       "      <th>count</th>\n",
       "      <td>200.000000</td>\n",
       "      <td>200.000000</td>\n",
       "      <td>200.000000</td>\n",
       "      <td>200.000000</td>\n",
       "    </tr>\n",
       "    <tr>\n",
       "      <th>mean</th>\n",
       "      <td>147.042500</td>\n",
       "      <td>23.264000</td>\n",
       "      <td>30.554000</td>\n",
       "      <td>15.130500</td>\n",
       "    </tr>\n",
       "    <tr>\n",
       "      <th>std</th>\n",
       "      <td>85.854236</td>\n",
       "      <td>14.846809</td>\n",
       "      <td>21.778621</td>\n",
       "      <td>5.283892</td>\n",
       "    </tr>\n",
       "    <tr>\n",
       "      <th>min</th>\n",
       "      <td>0.700000</td>\n",
       "      <td>0.000000</td>\n",
       "      <td>0.300000</td>\n",
       "      <td>1.600000</td>\n",
       "    </tr>\n",
       "    <tr>\n",
       "      <th>25%</th>\n",
       "      <td>74.375000</td>\n",
       "      <td>9.975000</td>\n",
       "      <td>12.750000</td>\n",
       "      <td>11.000000</td>\n",
       "    </tr>\n",
       "    <tr>\n",
       "      <th>50%</th>\n",
       "      <td>149.750000</td>\n",
       "      <td>22.900000</td>\n",
       "      <td>25.750000</td>\n",
       "      <td>16.000000</td>\n",
       "    </tr>\n",
       "    <tr>\n",
       "      <th>75%</th>\n",
       "      <td>218.825000</td>\n",
       "      <td>36.525000</td>\n",
       "      <td>45.100000</td>\n",
       "      <td>19.050000</td>\n",
       "    </tr>\n",
       "    <tr>\n",
       "      <th>max</th>\n",
       "      <td>296.400000</td>\n",
       "      <td>49.600000</td>\n",
       "      <td>114.000000</td>\n",
       "      <td>27.000000</td>\n",
       "    </tr>\n",
       "  </tbody>\n",
       "</table>\n",
       "</div>"
      ],
      "text/plain": [
       "               TV       Radio   Newspaper       Sales\n",
       "count  200.000000  200.000000  200.000000  200.000000\n",
       "mean   147.042500   23.264000   30.554000   15.130500\n",
       "std     85.854236   14.846809   21.778621    5.283892\n",
       "min      0.700000    0.000000    0.300000    1.600000\n",
       "25%     74.375000    9.975000   12.750000   11.000000\n",
       "50%    149.750000   22.900000   25.750000   16.000000\n",
       "75%    218.825000   36.525000   45.100000   19.050000\n",
       "max    296.400000   49.600000  114.000000   27.000000"
      ]
     },
     "execution_count": 5,
     "metadata": {},
     "output_type": "execute_result"
    }
   ],
   "source": [
    "#describe dataset\n",
    "df.describe()"
   ]
  },
  {
   "cell_type": "markdown",
   "id": "ca5e199e",
   "metadata": {},
   "source": [
    " # checking for null values"
   ]
  },
  {
   "cell_type": "code",
   "execution_count": 6,
   "id": "0c7f9a03",
   "metadata": {},
   "outputs": [
    {
     "data": {
      "text/plain": [
       "<AxesSubplot:>"
      ]
     },
     "execution_count": 6,
     "metadata": {},
     "output_type": "execute_result"
    },
    {
     "data": {
      "image/png": "[encoded data removed]",
      "text/plain": [
       "<Figure size 640x480 with 2 Axes>"
      ]
     },
     "metadata": {},
     "output_type": "display_data"
    }
   ],
   "source": [
    "sns.heatmap(df.isnull(),yticklabels=False,cmap='viridis')"
   ]
  },
  {
   "cell_type": "code",
   "execution_count": 7,
   "id": "c7a302e1",
   "metadata": {},
   "outputs": [
    {
     "data": {
      "text/plain": [
       "TV           0\n",
       "Radio        0\n",
       "Newspaper    0\n",
       "Sales        0\n",
       "dtype: int64"
      ]
     },
     "execution_count": 7,
     "metadata": {},
     "output_type": "execute_result"
    }
   ],
   "source": [
    "df.isnull().sum()"
   ]
  },
  {
   "cell_type": "code",
   "execution_count": 8,
   "id": "cb28ae35",
   "metadata": {},
   "outputs": [],
   "source": [
    "# Observation: In given dataset there are no null values are present"
   ]
  },
  {
   "cell_type": "code",
   "execution_count": 9,
   "id": "753b7a4d",
   "metadata": {},
   "outputs": [
    {
     "name": "stdout",
     "output_type": "stream",
     "text": [
      "--------- TV ---------\n",
      "[230.1  44.5  17.2 151.5 180.8   8.7  57.5 120.2   8.6 199.8  66.1 214.7\n",
      "  23.8  97.5 204.1 195.4  67.8 281.4  69.2 147.3 218.4 237.4  13.2 228.3\n",
      "  62.3 262.9 142.9 240.1 248.8  70.6 292.9 112.9  97.2 265.6  95.7 290.7\n",
      " 266.9  74.7  43.1 228.  202.5 177.  293.6 206.9  25.1 175.1  89.7 239.9\n",
      " 227.2  66.9 100.4 216.4 182.6 262.7 198.9   7.3 136.2 210.8 210.7  53.5\n",
      " 261.3 239.3 102.7 131.1  69.   31.5 139.3 216.8 199.1 109.8  26.8 129.4\n",
      " 213.4  16.9  27.5 120.5   5.4 116.   76.4 239.8  75.3  68.4 213.5 193.2\n",
      "  76.3 110.7  88.3 134.3  28.6 217.7 250.9 107.4 163.3 197.6 184.9 289.7\n",
      " 135.2 222.4 296.4 280.2 187.9 238.2 137.9  25.   90.4  13.1 255.4 225.8\n",
      " 241.7 175.7 209.6  78.2  75.1 139.2 125.7  19.4 141.3  18.8 224.  123.1\n",
      " 229.5  87.2   7.8  80.2 220.3  59.6   0.7 265.2   8.4 219.8  36.9  48.3\n",
      "  25.6 273.7  43.   73.4 193.7 220.5 104.6  96.2 140.3 243.2  38.   44.7\n",
      " 280.7 121.  171.3 187.8   4.1  93.9 149.8  11.7 131.7 172.5  85.7 188.4\n",
      " 163.5 117.2 234.5  17.9 206.8 215.4 284.3  50.  164.5  19.6 168.4 276.9\n",
      " 248.4 170.2 276.7 165.6 156.6 218.5  56.2 287.6 253.8 205.  139.5 191.1\n",
      " 286.   18.7  39.5  75.5 166.8 149.7  38.2  94.2 283.6 232.1]\n",
      "-----------------------\n",
      "--------- Radio ---------\n",
      "[37.8 39.3 45.9 41.3 10.8 48.9 32.8 19.6  2.1  2.6  5.8 24.  35.1  7.6\n",
      " 32.9 47.7 36.6 39.6 20.5 23.9 27.7  5.1 15.9 16.9 12.6  3.5 29.3 16.7\n",
      " 27.1 16.  28.3 17.4  1.5 20.   1.4  4.1 43.8 49.4 26.7 37.7 22.3 33.4\n",
      "  8.4 25.7 22.5  9.9 41.5 15.8 11.7  3.1  9.6 41.7 46.2 28.8 28.1 19.2\n",
      " 49.6 29.5  2.  42.7 15.5 29.6 42.8  9.3 24.6 14.5 27.5 43.9 30.6 14.3\n",
      " 33.   5.7 43.7  1.6 28.5 29.9  7.7 20.3 44.5 43.  18.4 40.6 25.5 47.8\n",
      "  4.9 33.5 36.5 14.  31.6 21.  42.3  4.3 36.3 10.1 17.2 34.3 46.4 11.\n",
      "  0.3  0.4 26.9  8.2 38.  15.4 20.6 46.8 35.   0.8 36.9 26.8 21.7  2.4\n",
      " 34.6 32.3 11.8 38.9  0.  49.  12.   2.9 27.2 38.6 47.  39.  28.9 25.9\n",
      " 17.  35.4 33.2 14.8  1.9  7.3 40.3 25.8 13.9 23.3 39.7 21.1 11.6 43.5\n",
      "  1.3 18.1 35.8 36.8 14.7  3.4 37.6  5.2 23.6 10.6 20.9 20.1  7.1 30.2\n",
      "  7.8  2.3 10.   5.4 21.3 45.1 28.7 12.1 41.1 42.  35.6  3.7  8.6]\n",
      "-----------------------\n",
      "--------- Newspaper ---------\n",
      "[ 69.2  45.1  69.3  58.5  58.4  75.   23.5  11.6   1.   21.2  24.2   4.\n",
      "  65.9   7.2  46.   52.9 114.   55.8  18.3  19.1  53.4  49.6  26.2  19.5\n",
      "  12.6  22.9  40.8  43.2  38.6  30.    0.3   7.4   8.5   5.   45.7  35.1\n",
      "  32.   31.6  38.7   1.8  26.4  43.3  31.5  35.7  18.5  49.9  36.8  34.6\n",
      "   3.6  39.6  58.7  15.9  60.   41.4  16.6  37.7   9.3  21.4  54.7  27.3\n",
      "   8.4  28.9   0.9   2.2  10.2  11.   27.2  31.7  19.3  31.3  13.1  89.4\n",
      "  20.7  14.2   9.4  23.1  22.3  36.9  32.5  35.6  33.8  65.7  16.   63.2\n",
      "  73.4  51.4  33.   59.   72.3  10.9   5.9  22.   51.2  45.9  49.8 100.9\n",
      "  17.9   5.3  29.7  23.2  25.6   5.5  56.5   2.4  10.7  34.5  52.7  14.8\n",
      "  79.2  46.2  50.4  15.6  12.4  74.2  25.9  50.6   9.2   3.2  43.1   8.7\n",
      "  43.    2.1  65.6  59.7  20.5   1.7  12.9  75.6  37.9  34.4  38.9   9.\n",
      "  44.3  11.9  20.6  37.   48.7   9.5   5.7  50.5  24.3  45.2  30.7  49.3\n",
      "   5.4  84.8  21.6  19.4  57.6   6.4  18.4  47.4  17.   12.8  41.8  20.3\n",
      "  35.2  23.7  17.6   8.3  27.4  71.8  19.6  26.6  18.2   3.7  23.4   5.8\n",
      "   6.   13.8   8.1  66.2]\n",
      "-----------------------\n",
      "--------- Sales ---------\n",
      "[22.1 10.4 12.  16.5 17.9  7.2 11.8 13.2  4.8 15.6 12.6 17.4  9.2 13.7\n",
      " 19.  22.4 12.5 24.4 11.3 14.6 18.  17.5  5.6 20.5  9.7 17.  15.  20.9\n",
      " 18.9 10.5 21.4 11.9 17.8 25.4 14.7 10.1 21.5 16.6 17.1 20.7  8.5 16.1\n",
      " 10.6 23.2 19.8 16.4 10.7 22.6 21.2 20.2 23.7  5.5 23.8 18.4  8.1 24.2\n",
      " 14.  16.  11.  13.4 22.3 18.3 12.4  8.8  8.7  6.9 14.2  5.3 17.3 13.6\n",
      " 21.7 12.9 16.7  7.3 19.4 22.2 11.5 16.9 17.2 19.7 21.8 12.2  9.4 15.9\n",
      "  6.6 15.5  7.  15.2 24.7  1.6 17.7  5.7 19.6 10.8 11.6  9.5 20.8  9.6\n",
      " 10.9 19.2 20.1 12.3 10.3 18.2 20.6  3.2 15.3 13.3 19.9  8.  20.   8.4\n",
      "  7.6 27.  16.8 17.6 26.2  6.7  5.9 14.8 25.5]\n",
      "-----------------------\n"
     ]
    }
   ],
   "source": [
    "#checking unique values of columns\n",
    "for i in df.columns:\n",
    "    print('---------',i,'---------')\n",
    "    print(df[i].unique())\n",
    "    print('-----------------------')"
   ]
  },
  {
   "cell_type": "markdown",
   "id": "ee7054af",
   "metadata": {},
   "source": [
    "# checking for outliers"
   ]
  },
  {
   "cell_type": "code",
   "execution_count": 10,
   "id": "ddbaaf9e",
   "metadata": {},
   "outputs": [],
   "source": [
    "numcol=df.select_dtypes([\"int64\",\"float64\"]).columns\n",
    "catcol=df.select_dtypes([\"object\"]).columns"
   ]
  },
  {
   "cell_type": "code",
   "execution_count": 11,
   "id": "801b44b0",
   "metadata": {},
   "outputs": [
    {
     "data": {
      "text/plain": [
       "Index(['TV', 'Radio', 'Newspaper', 'Sales'], dtype='object')"
      ]
     },
     "execution_count": 11,
     "metadata": {},
     "output_type": "execute_result"
    }
   ],
   "source": [
    "numcol"
   ]
  },
  {
   "cell_type": "code",
   "execution_count": 12,
   "id": "610fdff2",
   "metadata": {},
   "outputs": [
    {
     "data": {
      "image/png": "[encoded data removed]",
      "text/plain": [
       "<Figure size 1200x1200 with 4 Axes>"
      ]
     },
     "metadata": {},
     "output_type": "display_data"
    }
   ],
   "source": [
    "plt.figure(figsize=(12,12))\n",
    "plt.suptitle('checking outliers')\n",
    "pltn=1\n",
    "for i in numcol:\n",
    "    if pltn<8:\n",
    "        ax=plt.subplot(4,2,pltn)\n",
    "        sns.boxplot(df[i])\n",
    "        plt.xlabel(i,fontsize=15)\n",
    "        pltn=pltn+1\n",
    "plt.tight_layout()"
   ]
  },
  {
   "cell_type": "code",
   "execution_count": 13,
   "id": "a0e3a988",
   "metadata": {},
   "outputs": [
    {
     "data": {
      "image/png": "[encoded data removed]",
      "text/plain": [
       "<Figure size 1200x1200 with 4 Axes>"
      ]
     },
     "metadata": {},
     "output_type": "display_data"
    }
   ],
   "source": [
    "# checking for sckewness\n",
    "plt.figure(figsize=(12,12))\n",
    "plt.suptitle(\"CHECKING SKWNESS\")\n",
    "pltn=1\n",
    "for i in numcol:\n",
    " if pltn<=8:\n",
    "   ax=plt.subplot(4,2,pltn)\n",
    "   sns.distplot(df[i])\n",
    "   plt.xlabel(i,fontsize=15)\n",
    "   pltn=pltn+1\n",
    "plt.tight_layout()"
   ]
  },
  {
   "cell_type": "markdown",
   "id": "c65feb56",
   "metadata": {},
   "source": [
    "oservation:There is null values are preset in newspaper"
   ]
  },
  {
   "cell_type": "code",
   "execution_count": 14,
   "id": "e324514b",
   "metadata": {},
   "outputs": [
    {
     "data": {
      "text/plain": [
       "(93.625, -35.775000000000006)"
      ]
     },
     "execution_count": 14,
     "metadata": {},
     "output_type": "execute_result"
    }
   ],
   "source": [
    "q1,q3=np.percentile(df['Newspaper'],[25,75])\n",
    "iqr=q3-q1\n",
    "ul=q3+1.5*iqr\n",
    "ll=q1-1.5*iqr\n",
    "ul,ll"
   ]
  },
  {
   "cell_type": "code",
   "execution_count": 15,
   "id": "b39b4e75",
   "metadata": {},
   "outputs": [],
   "source": [
    "def impute_outlier(value):\n",
    "    if value> ul:\n",
    "        return a\n",
    "    elif value <ll:\n",
    "        return a\n",
    "    else:\n",
    "        return value"
   ]
  },
  {
   "cell_type": "code",
   "execution_count": 16,
   "id": "34a40526",
   "metadata": {},
   "outputs": [],
   "source": [
    "a=df['Newspaper'].mean()\n",
    "df['Newspaper']=df['Newspaper'].apply(impute_outlier)"
   ]
  },
  {
   "cell_type": "code",
   "execution_count": 17,
   "id": "de270dfe",
   "metadata": {},
   "outputs": [
    {
     "data": {
      "image/png": "[encoded data removed]",
      "text/plain": [
       "<Figure size 640x480 with 1 Axes>"
      ]
     },
     "metadata": {},
     "output_type": "display_data"
    }
   ],
   "source": [
    "sns.boxplot(df['Newspaper'])\n",
    "plt.show()"
   ]
  },
  {
   "cell_type": "code",
   "execution_count": 18,
   "id": "3ead08d0",
   "metadata": {},
   "outputs": [
    {
     "data": {
      "text/plain": [
       "<AxesSubplot:>"
      ]
     },
     "execution_count": 18,
     "metadata": {},
     "output_type": "execute_result"
    },
    {
     "data": {
      "image/png": "[encoded data removed]",
      "text/plain": [
       "<Figure size 640x480 with 2 Axes>"
      ]
     },
     "metadata": {},
     "output_type": "display_data"
    }
   ],
   "source": [
    "#checking correlation\n",
    "sns.heatmap(df.corr(),annot=True)"
   ]
  },
  {
   "cell_type": "markdown",
   "id": "947e813f",
   "metadata": {},
   "source": [
    "# Model Building"
   ]
  },
  {
   "cell_type": "code",
   "execution_count": 19,
   "id": "2552645e",
   "metadata": {},
   "outputs": [],
   "source": [
    "#split data into dependant and independant\n",
    "x=df.iloc[:,:-1].values\n",
    "y=df.iloc[:,-1].values"
   ]
  },
  {
   "cell_type": "code",
   "execution_count": 20,
   "id": "94da0185",
   "metadata": {},
   "outputs": [
    {
     "data": {
      "text/plain": [
       "array([[230.1  ,  37.8  ,  69.2  ],\n",
       "       [ 44.5  ,  39.3  ,  45.1  ],\n",
       "       [ 17.2  ,  45.9  ,  69.3  ],\n",
       "       [151.5  ,  41.3  ,  58.5  ],\n",
       "       [180.8  ,  10.8  ,  58.4  ],\n",
       "       [  8.7  ,  48.9  ,  75.   ],\n",
       "       [ 57.5  ,  32.8  ,  23.5  ],\n",
       "       [120.2  ,  19.6  ,  11.6  ],\n",
       "       [  8.6  ,   2.1  ,   1.   ],\n",
       "       [199.8  ,   2.6  ,  21.2  ],\n",
       "       [ 66.1  ,   5.8  ,  24.2  ],\n",
       "       [214.7  ,  24.   ,   4.   ],\n",
       "       [ 23.8  ,  35.1  ,  65.9  ],\n",
       "       [ 97.5  ,   7.6  ,   7.2  ],\n",
       "       [204.1  ,  32.9  ,  46.   ],\n",
       "       [195.4  ,  47.7  ,  52.9  ],\n",
       "       [ 67.8  ,  36.6  ,  30.554],\n",
       "       [281.4  ,  39.6  ,  55.8  ],\n",
       "       [ 69.2  ,  20.5  ,  18.3  ],\n",
       "       [147.3  ,  23.9  ,  19.1  ],\n",
       "       [218.4  ,  27.7  ,  53.4  ],\n",
       "       [237.4  ,   5.1  ,  23.5  ],\n",
       "       [ 13.2  ,  15.9  ,  49.6  ],\n",
       "       [228.3  ,  16.9  ,  26.2  ],\n",
       "       [ 62.3  ,  12.6  ,  18.3  ],\n",
       "       [262.9  ,   3.5  ,  19.5  ],\n",
       "       [142.9  ,  29.3  ,  12.6  ],\n",
       "       [240.1  ,  16.7  ,  22.9  ],\n",
       "       [248.8  ,  27.1  ,  22.9  ],\n",
       "       [ 70.6  ,  16.   ,  40.8  ],\n",
       "       [292.9  ,  28.3  ,  43.2  ],\n",
       "       [112.9  ,  17.4  ,  38.6  ],\n",
       "       [ 97.2  ,   1.5  ,  30.   ],\n",
       "       [265.6  ,  20.   ,   0.3  ],\n",
       "       [ 95.7  ,   1.4  ,   7.4  ],\n",
       "       [290.7  ,   4.1  ,   8.5  ],\n",
       "       [266.9  ,  43.8  ,   5.   ],\n",
       "       [ 74.7  ,  49.4  ,  45.7  ],\n",
       "       [ 43.1  ,  26.7  ,  35.1  ],\n",
       "       [228.   ,  37.7  ,  32.   ],\n",
       "       [202.5  ,  22.3  ,  31.6  ],\n",
       "       [177.   ,  33.4  ,  38.7  ],\n",
       "       [293.6  ,  27.7  ,   1.8  ],\n",
       "       [206.9  ,   8.4  ,  26.4  ],\n",
       "       [ 25.1  ,  25.7  ,  43.3  ],\n",
       "       [175.1  ,  22.5  ,  31.5  ],\n",
       "       [ 89.7  ,   9.9  ,  35.7  ],\n",
       "       [239.9  ,  41.5  ,  18.5  ],\n",
       "       [227.2  ,  15.8  ,  49.9  ],\n",
       "       [ 66.9  ,  11.7  ,  36.8  ],\n",
       "       [199.8  ,   3.1  ,  34.6  ],\n",
       "       [100.4  ,   9.6  ,   3.6  ],\n",
       "       [216.4  ,  41.7  ,  39.6  ],\n",
       "       [182.6  ,  46.2  ,  58.7  ],\n",
       "       [262.7  ,  28.8  ,  15.9  ],\n",
       "       [198.9  ,  49.4  ,  60.   ],\n",
       "       [  7.3  ,  28.1  ,  41.4  ],\n",
       "       [136.2  ,  19.2  ,  16.6  ],\n",
       "       [210.8  ,  49.6  ,  37.7  ],\n",
       "       [210.7  ,  29.5  ,   9.3  ],\n",
       "       [ 53.5  ,   2.   ,  21.4  ],\n",
       "       [261.3  ,  42.7  ,  54.7  ],\n",
       "       [239.3  ,  15.5  ,  27.3  ],\n",
       "       [102.7  ,  29.6  ,   8.4  ],\n",
       "       [131.1  ,  42.8  ,  28.9  ],\n",
       "       [ 69.   ,   9.3  ,   0.9  ],\n",
       "       [ 31.5  ,  24.6  ,   2.2  ],\n",
       "       [139.3  ,  14.5  ,  10.2  ],\n",
       "       [237.4  ,  27.5  ,  11.   ],\n",
       "       [216.8  ,  43.9  ,  27.2  ],\n",
       "       [199.1  ,  30.6  ,  38.7  ],\n",
       "       [109.8  ,  14.3  ,  31.7  ],\n",
       "       [ 26.8  ,  33.   ,  19.3  ],\n",
       "       [129.4  ,   5.7  ,  31.3  ],\n",
       "       [213.4  ,  24.6  ,  13.1  ],\n",
       "       [ 16.9  ,  43.7  ,  89.4  ],\n",
       "       [ 27.5  ,   1.6  ,  20.7  ],\n",
       "       [120.5  ,  28.5  ,  14.2  ],\n",
       "       [  5.4  ,  29.9  ,   9.4  ],\n",
       "       [116.   ,   7.7  ,  23.1  ],\n",
       "       [ 76.4  ,  26.7  ,  22.3  ],\n",
       "       [239.8  ,   4.1  ,  36.9  ],\n",
       "       [ 75.3  ,  20.3  ,  32.5  ],\n",
       "       [ 68.4  ,  44.5  ,  35.6  ],\n",
       "       [213.5  ,  43.   ,  33.8  ],\n",
       "       [193.2  ,  18.4  ,  65.7  ],\n",
       "       [ 76.3  ,  27.5  ,  16.   ],\n",
       "       [110.7  ,  40.6  ,  63.2  ],\n",
       "       [ 88.3  ,  25.5  ,  73.4  ],\n",
       "       [109.8  ,  47.8  ,  51.4  ],\n",
       "       [134.3  ,   4.9  ,   9.3  ],\n",
       "       [ 28.6  ,   1.5  ,  33.   ],\n",
       "       [217.7  ,  33.5  ,  59.   ],\n",
       "       [250.9  ,  36.5  ,  72.3  ],\n",
       "       [107.4  ,  14.   ,  10.9  ],\n",
       "       [163.3  ,  31.6  ,  52.9  ],\n",
       "       [197.6  ,   3.5  ,   5.9  ],\n",
       "       [184.9  ,  21.   ,  22.   ],\n",
       "       [289.7  ,  42.3  ,  51.2  ],\n",
       "       [135.2  ,  41.7  ,  45.9  ],\n",
       "       [222.4  ,   4.3  ,  49.8  ],\n",
       "       [296.4  ,  36.3  ,  30.554],\n",
       "       [280.2  ,  10.1  ,  21.4  ],\n",
       "       [187.9  ,  17.2  ,  17.9  ],\n",
       "       [238.2  ,  34.3  ,   5.3  ],\n",
       "       [137.9  ,  46.4  ,  59.   ],\n",
       "       [ 25.   ,  11.   ,  29.7  ],\n",
       "       [ 90.4  ,   0.3  ,  23.2  ],\n",
       "       [ 13.1  ,   0.4  ,  25.6  ],\n",
       "       [255.4  ,  26.9  ,   5.5  ],\n",
       "       [225.8  ,   8.2  ,  56.5  ],\n",
       "       [241.7  ,  38.   ,  23.2  ],\n",
       "       [175.7  ,  15.4  ,   2.4  ],\n",
       "       [209.6  ,  20.6  ,  10.7  ],\n",
       "       [ 78.2  ,  46.8  ,  34.5  ],\n",
       "       [ 75.1  ,  35.   ,  52.7  ],\n",
       "       [139.2  ,  14.3  ,  25.6  ],\n",
       "       [ 76.4  ,   0.8  ,  14.8  ],\n",
       "       [125.7  ,  36.9  ,  79.2  ],\n",
       "       [ 19.4  ,  16.   ,  22.3  ],\n",
       "       [141.3  ,  26.8  ,  46.2  ],\n",
       "       [ 18.8  ,  21.7  ,  50.4  ],\n",
       "       [224.   ,   2.4  ,  15.6  ],\n",
       "       [123.1  ,  34.6  ,  12.4  ],\n",
       "       [229.5  ,  32.3  ,  74.2  ],\n",
       "       [ 87.2  ,  11.8  ,  25.9  ],\n",
       "       [  7.8  ,  38.9  ,  50.6  ],\n",
       "       [ 80.2  ,   0.   ,   9.2  ],\n",
       "       [220.3  ,  49.   ,   3.2  ],\n",
       "       [ 59.6  ,  12.   ,  43.1  ],\n",
       "       [  0.7  ,  39.6  ,   8.7  ],\n",
       "       [265.2  ,   2.9  ,  43.   ],\n",
       "       [  8.4  ,  27.2  ,   2.1  ],\n",
       "       [219.8  ,  33.5  ,  45.1  ],\n",
       "       [ 36.9  ,  38.6  ,  65.6  ],\n",
       "       [ 48.3  ,  47.   ,   8.5  ],\n",
       "       [ 25.6  ,  39.   ,   9.3  ],\n",
       "       [273.7  ,  28.9  ,  59.7  ],\n",
       "       [ 43.   ,  25.9  ,  20.5  ],\n",
       "       [184.9  ,  43.9  ,   1.7  ],\n",
       "       [ 73.4  ,  17.   ,  12.9  ],\n",
       "       [193.7  ,  35.4  ,  75.6  ],\n",
       "       [220.5  ,  33.2  ,  37.9  ],\n",
       "       [104.6  ,   5.7  ,  34.4  ],\n",
       "       [ 96.2  ,  14.8  ,  38.9  ],\n",
       "       [140.3  ,   1.9  ,   9.   ],\n",
       "       [240.1  ,   7.3  ,   8.7  ],\n",
       "       [243.2  ,  49.   ,  44.3  ],\n",
       "       [ 38.   ,  40.3  ,  11.9  ],\n",
       "       [ 44.7  ,  25.8  ,  20.6  ],\n",
       "       [280.7  ,  13.9  ,  37.   ],\n",
       "       [121.   ,   8.4  ,  48.7  ],\n",
       "       [197.6  ,  23.3  ,  14.2  ],\n",
       "       [171.3  ,  39.7  ,  37.7  ],\n",
       "       [187.8  ,  21.1  ,   9.5  ],\n",
       "       [  4.1  ,  11.6  ,   5.7  ],\n",
       "       [ 93.9  ,  43.5  ,  50.5  ],\n",
       "       [149.8  ,   1.3  ,  24.3  ],\n",
       "       [ 11.7  ,  36.9  ,  45.2  ],\n",
       "       [131.7  ,  18.4  ,  34.6  ],\n",
       "       [172.5  ,  18.1  ,  30.7  ],\n",
       "       [ 85.7  ,  35.8  ,  49.3  ],\n",
       "       [188.4  ,  18.1  ,  25.6  ],\n",
       "       [163.5  ,  36.8  ,   7.4  ],\n",
       "       [117.2  ,  14.7  ,   5.4  ],\n",
       "       [234.5  ,   3.4  ,  84.8  ],\n",
       "       [ 17.9  ,  37.6  ,  21.6  ],\n",
       "       [206.8  ,   5.2  ,  19.4  ],\n",
       "       [215.4  ,  23.6  ,  57.6  ],\n",
       "       [284.3  ,  10.6  ,   6.4  ],\n",
       "       [ 50.   ,  11.6  ,  18.4  ],\n",
       "       [164.5  ,  20.9  ,  47.4  ],\n",
       "       [ 19.6  ,  20.1  ,  17.   ],\n",
       "       [168.4  ,   7.1  ,  12.8  ],\n",
       "       [222.4  ,   3.4  ,  13.1  ],\n",
       "       [276.9  ,  48.9  ,  41.8  ],\n",
       "       [248.4  ,  30.2  ,  20.3  ],\n",
       "       [170.2  ,   7.8  ,  35.2  ],\n",
       "       [276.7  ,   2.3  ,  23.7  ],\n",
       "       [165.6  ,  10.   ,  17.6  ],\n",
       "       [156.6  ,   2.6  ,   8.3  ],\n",
       "       [218.5  ,   5.4  ,  27.4  ],\n",
       "       [ 56.2  ,   5.7  ,  29.7  ],\n",
       "       [287.6  ,  43.   ,  71.8  ],\n",
       "       [253.8  ,  21.3  ,  30.   ],\n",
       "       [205.   ,  45.1  ,  19.6  ],\n",
       "       [139.5  ,   2.1  ,  26.6  ],\n",
       "       [191.1  ,  28.7  ,  18.2  ],\n",
       "       [286.   ,  13.9  ,   3.7  ],\n",
       "       [ 18.7  ,  12.1  ,  23.4  ],\n",
       "       [ 39.5  ,  41.1  ,   5.8  ],\n",
       "       [ 75.5  ,  10.8  ,   6.   ],\n",
       "       [ 17.2  ,   4.1  ,  31.6  ],\n",
       "       [166.8  ,  42.   ,   3.6  ],\n",
       "       [149.7  ,  35.6  ,   6.   ],\n",
       "       [ 38.2  ,   3.7  ,  13.8  ],\n",
       "       [ 94.2  ,   4.9  ,   8.1  ],\n",
       "       [177.   ,   9.3  ,   6.4  ],\n",
       "       [283.6  ,  42.   ,  66.2  ],\n",
       "       [232.1  ,   8.6  ,   8.7  ]])"
      ]
     },
     "execution_count": 20,
     "metadata": {},
     "output_type": "execute_result"
    }
   ],
   "source": [
    "x"
   ]
  },
  {
   "cell_type": "code",
   "execution_count": 22,
   "id": "c23055d7",
   "metadata": {},
   "outputs": [
    {
     "data": {
      "text/plain": [
       "StandardScaler()"
      ]
     },
     "execution_count": 22,
     "metadata": {},
     "output_type": "execute_result"
    }
   ],
   "source": [
    "from sklearn.preprocessing import StandardScaler\n",
    "scaler=StandardScaler()\n",
    "scaler.fit(x)"
   ]
  },
  {
   "cell_type": "code",
   "execution_count": 23,
   "id": "33b441a1",
   "metadata": {},
   "outputs": [],
   "source": [
    "#split training and testing data\n",
    "from sklearn.model_selection import train_test_split\n",
    "x_train,x_test,y_train,y_test=train_test_split(x,y,test_size=0.30,random_state=42)"
   ]
  },
  {
   "cell_type": "code",
   "execution_count": 24,
   "id": "03a24f84",
   "metadata": {},
   "outputs": [
    {
     "data": {
      "text/plain": [
       "array([[163.3  ,  31.6  ,  52.9  ],\n",
       "       [195.4  ,  47.7  ,  52.9  ],\n",
       "       [292.9  ,  28.3  ,  43.2  ],\n",
       "       [ 11.7  ,  36.9  ,  45.2  ],\n",
       "       [220.3  ,  49.   ,   3.2  ],\n",
       "       [ 75.1  ,  35.   ,  52.7  ],\n",
       "       [216.8  ,  43.9  ,  27.2  ],\n",
       "       [ 50.   ,  11.6  ,  18.4  ],\n",
       "       [222.4  ,   3.4  ,  13.1  ],\n",
       "       [175.1  ,  22.5  ,  31.5  ],\n",
       "       [ 31.5  ,  24.6  ,   2.2  ],\n",
       "       [ 56.2  ,   5.7  ,  29.7  ],\n",
       "       [234.5  ,   3.4  ,  84.8  ],\n",
       "       [  5.4  ,  29.9  ,   9.4  ],\n",
       "       [139.5  ,   2.1  ,  26.6  ],\n",
       "       [170.2  ,   7.8  ,  35.2  ],\n",
       "       [  7.3  ,  28.1  ,  41.4  ],\n",
       "       [197.6  ,  23.3  ,  14.2  ],\n",
       "       [ 75.3  ,  20.3  ,  32.5  ],\n",
       "       [237.4  ,  27.5  ,  11.   ],\n",
       "       [229.5  ,  32.3  ,  74.2  ],\n",
       "       [ 67.8  ,  36.6  ,  30.554],\n",
       "       [ 38.   ,  40.3  ,  11.9  ],\n",
       "       [250.9  ,  36.5  ,  72.3  ],\n",
       "       [ 69.   ,   9.3  ,   0.9  ],\n",
       "       [ 53.5  ,   2.   ,  21.4  ],\n",
       "       [213.5  ,  43.   ,  33.8  ],\n",
       "       [139.3  ,  14.5  ,  10.2  ],\n",
       "       [ 87.2  ,  11.8  ,  25.9  ],\n",
       "       [  8.4  ,  27.2  ,   2.1  ],\n",
       "       [199.8  ,   2.6  ,  21.2  ],\n",
       "       [ 69.2  ,  20.5  ,  18.3  ],\n",
       "       [198.9  ,  49.4  ,  60.   ],\n",
       "       [ 16.9  ,  43.7  ,  89.4  ],\n",
       "       [280.7  ,  13.9  ,  37.   ],\n",
       "       [238.2  ,  34.3  ,   5.3  ],\n",
       "       [ 48.3  ,  47.   ,   8.5  ],\n",
       "       [273.7  ,  28.9  ,  59.7  ],\n",
       "       [117.2  ,  14.7  ,   5.4  ],\n",
       "       [ 27.5  ,   1.6  ,  20.7  ],\n",
       "       [116.   ,   7.7  ,  23.1  ],\n",
       "       [177.   ,   9.3  ,   6.4  ],\n",
       "       [ 43.1  ,  26.7  ,  35.1  ],\n",
       "       [ 62.3  ,  12.6  ,  18.3  ],\n",
       "       [224.   ,   2.4  ,  15.6  ],\n",
       "       [ 38.2  ,   3.7  ,  13.8  ],\n",
       "       [ 70.6  ,  16.   ,  40.8  ],\n",
       "       [147.3  ,  23.9  ,  19.1  ],\n",
       "       [104.6  ,   5.7  ,  34.4  ],\n",
       "       [ 76.3  ,  27.5  ,  16.   ],\n",
       "       [ 78.2  ,  46.8  ,  34.5  ],\n",
       "       [168.4  ,   7.1  ,  12.8  ],\n",
       "       [  8.7  ,  48.9  ,  75.   ],\n",
       "       [  7.8  ,  38.9  ,  50.6  ],\n",
       "       [ 76.4  ,   0.8  ,  14.8  ],\n",
       "       [129.4  ,   5.7  ,  31.3  ],\n",
       "       [ 73.4  ,  17.   ,  12.9  ],\n",
       "       [289.7  ,  42.3  ,  51.2  ],\n",
       "       [ 19.6  ,  20.1  ,  17.   ],\n",
       "       [197.6  ,   3.5  ,   5.9  ]])"
      ]
     },
     "execution_count": 24,
     "metadata": {},
     "output_type": "execute_result"
    }
   ],
   "source": [
    "x_test"
   ]
  },
  {
   "cell_type": "code",
   "execution_count": 25,
   "id": "e30846b8",
   "metadata": {},
   "outputs": [
    {
     "data": {
      "text/plain": [
       "array([[284.3  ,  10.6  ,   6.4  ],\n",
       "       [184.9  ,  21.   ,  22.   ],\n",
       "       [112.9  ,  17.4  ,  38.6  ],\n",
       "       [ 23.8  ,  35.1  ,  65.9  ],\n",
       "       [290.7  ,   4.1  ,   8.5  ],\n",
       "       [ 19.4  ,  16.   ,  22.3  ],\n",
       "       [293.6  ,  27.7  ,   1.8  ],\n",
       "       [ 18.7  ,  12.1  ,  23.4  ],\n",
       "       [134.3  ,   4.9  ,   9.3  ],\n",
       "       [ 25.6  ,  39.   ,   9.3  ],\n",
       "       [100.4  ,   9.6  ,   3.6  ],\n",
       "       [ 80.2  ,   0.   ,   9.2  ],\n",
       "       [188.4  ,  18.1  ,  25.6  ],\n",
       "       [177.   ,  33.4  ,  38.7  ],\n",
       "       [125.7  ,  36.9  ,  79.2  ],\n",
       "       [209.6  ,  20.6  ,  10.7  ],\n",
       "       [142.9  ,  29.3  ,  12.6  ],\n",
       "       [184.9  ,  43.9  ,   1.7  ],\n",
       "       [222.4  ,   4.3  ,  49.8  ],\n",
       "       [241.7  ,  38.   ,  23.2  ],\n",
       "       [ 17.2  ,  45.9  ,  69.3  ],\n",
       "       [120.5  ,  28.5  ,  14.2  ],\n",
       "       [ 89.7  ,   9.9  ,  35.7  ],\n",
       "       [191.1  ,  28.7  ,  18.2  ],\n",
       "       [ 75.5  ,  10.8  ,   6.   ],\n",
       "       [193.2  ,  18.4  ,  65.7  ],\n",
       "       [ 85.7  ,  35.8  ,  49.3  ],\n",
       "       [266.9  ,  43.8  ,   5.   ],\n",
       "       [ 39.5  ,  41.1  ,   5.8  ],\n",
       "       [261.3  ,  42.7  ,  54.7  ],\n",
       "       [ 13.2  ,  15.9  ,  49.6  ],\n",
       "       [193.7  ,  35.4  ,  75.6  ],\n",
       "       [296.4  ,  36.3  ,  30.554],\n",
       "       [265.6  ,  20.   ,   0.3  ],\n",
       "       [214.7  ,  24.   ,   4.   ],\n",
       "       [149.7  ,  35.6  ,   6.   ],\n",
       "       [131.7  ,  18.4  ,  34.6  ],\n",
       "       [ 57.5  ,  32.8  ,  23.5  ],\n",
       "       [240.1  ,  16.7  ,  22.9  ],\n",
       "       [141.3  ,  26.8  ,  46.2  ],\n",
       "       [180.8  ,  10.8  ,  58.4  ],\n",
       "       [ 97.2  ,   1.5  ,  30.   ],\n",
       "       [220.5  ,  33.2  ,  37.9  ],\n",
       "       [140.3  ,   1.9  ,   9.   ],\n",
       "       [255.4  ,  26.9  ,   5.5  ],\n",
       "       [ 96.2  ,  14.8  ,  38.9  ],\n",
       "       [ 66.1  ,   5.8  ,  24.2  ],\n",
       "       [239.3  ,  15.5  ,  27.3  ],\n",
       "       [175.7  ,  15.4  ,   2.4  ],\n",
       "       [240.1  ,   7.3  ,   8.7  ],\n",
       "       [ 17.9  ,  37.6  ,  21.6  ],\n",
       "       [230.1  ,  37.8  ,  69.2  ],\n",
       "       [283.6  ,  42.   ,  66.2  ],\n",
       "       [171.3  ,  39.7  ,  37.7  ],\n",
       "       [199.1  ,  30.6  ,  38.7  ],\n",
       "       [123.1  ,  34.6  ,  12.4  ],\n",
       "       [131.1  ,  42.8  ,  28.9  ],\n",
       "       [ 25.1  ,  25.7  ,  43.3  ],\n",
       "       [163.5  ,  36.8  ,   7.4  ],\n",
       "       [248.8  ,  27.1  ,  22.9  ],\n",
       "       [202.5  ,  22.3  ,  31.6  ],\n",
       "       [ 13.1  ,   0.4  ,  25.6  ],\n",
       "       [  4.1  ,  11.6  ,   5.7  ],\n",
       "       [ 93.9  ,  43.5  ,  50.5  ],\n",
       "       [262.9  ,   3.5  ,  19.5  ],\n",
       "       [228.3  ,  16.9  ,  26.2  ],\n",
       "       [253.8  ,  21.3  ,  30.   ],\n",
       "       [243.2  ,  49.   ,  44.3  ],\n",
       "       [239.8  ,   4.1  ,  36.9  ],\n",
       "       [228.   ,  37.7  ,  32.   ],\n",
       "       [215.4  ,  23.6  ,  57.6  ],\n",
       "       [239.9  ,  41.5  ,  18.5  ],\n",
       "       [107.4  ,  14.   ,  10.9  ],\n",
       "       [187.8  ,  21.1  ,   9.5  ],\n",
       "       [206.9  ,   8.4  ,  26.4  ],\n",
       "       [ 43.   ,  25.9  ,  20.5  ],\n",
       "       [151.5  ,  41.3  ,  58.5  ],\n",
       "       [137.9  ,  46.4  ,  59.   ],\n",
       "       [182.6  ,  46.2  ,  58.7  ],\n",
       "       [219.8  ,  33.5  ,  45.1  ],\n",
       "       [156.6  ,   2.6  ,   8.3  ],\n",
       "       [276.7  ,   2.3  ,  23.7  ],\n",
       "       [205.   ,  45.1  ,  19.6  ],\n",
       "       [ 66.9  ,  11.7  ,  36.8  ],\n",
       "       [ 76.4  ,  26.7  ,  22.3  ],\n",
       "       [ 95.7  ,   1.4  ,   7.4  ],\n",
       "       [120.2  ,  19.6  ,  11.6  ],\n",
       "       [225.8  ,   8.2  ,  56.5  ],\n",
       "       [ 28.6  ,   1.5  ,  33.   ],\n",
       "       [ 68.4  ,  44.5  ,  35.6  ],\n",
       "       [248.4  ,  30.2  ,  20.3  ],\n",
       "       [218.5  ,   5.4  ,  27.4  ],\n",
       "       [109.8  ,  47.8  ,  51.4  ],\n",
       "       [  8.6  ,   2.1  ,   1.   ],\n",
       "       [ 97.5  ,   7.6  ,   7.2  ],\n",
       "       [210.7  ,  29.5  ,   9.3  ],\n",
       "       [164.5  ,  20.9  ,  47.4  ],\n",
       "       [265.2  ,   2.9  ,  43.   ],\n",
       "       [281.4  ,  39.6  ,  55.8  ],\n",
       "       [ 26.8  ,  33.   ,  19.3  ],\n",
       "       [276.9  ,  48.9  ,  41.8  ],\n",
       "       [ 36.9  ,  38.6  ,  65.6  ],\n",
       "       [206.8  ,   5.2  ,  19.4  ],\n",
       "       [287.6  ,  43.   ,  71.8  ],\n",
       "       [102.7  ,  29.6  ,   8.4  ],\n",
       "       [262.7  ,  28.8  ,  15.9  ],\n",
       "       [ 90.4  ,   0.3  ,  23.2  ],\n",
       "       [199.8  ,   3.1  ,  34.6  ],\n",
       "       [ 94.2  ,   4.9  ,   8.1  ],\n",
       "       [210.8  ,  49.6  ,  37.7  ],\n",
       "       [227.2  ,  15.8  ,  49.9  ],\n",
       "       [ 88.3  ,  25.5  ,  73.4  ],\n",
       "       [237.4  ,   5.1  ,  23.5  ],\n",
       "       [136.2  ,  19.2  ,  16.6  ],\n",
       "       [172.5  ,  18.1  ,  30.7  ],\n",
       "       [ 17.2  ,   4.1  ,  31.6  ],\n",
       "       [ 59.6  ,  12.   ,  43.1  ],\n",
       "       [ 74.7  ,  49.4  ,  45.7  ],\n",
       "       [149.8  ,   1.3  ,  24.3  ],\n",
       "       [166.8  ,  42.   ,   3.6  ],\n",
       "       [ 44.5  ,  39.3  ,  45.1  ],\n",
       "       [216.4  ,  41.7  ,  39.6  ],\n",
       "       [ 44.7  ,  25.8  ,  20.6  ],\n",
       "       [  0.7  ,  39.6  ,   8.7  ],\n",
       "       [121.   ,   8.4  ,  48.7  ],\n",
       "       [187.9  ,  17.2  ,  17.9  ],\n",
       "       [135.2  ,  41.7  ,  45.9  ],\n",
       "       [139.2  ,  14.3  ,  25.6  ],\n",
       "       [110.7  ,  40.6  ,  63.2  ],\n",
       "       [213.4  ,  24.6  ,  13.1  ],\n",
       "       [ 18.8  ,  21.7  ,  50.4  ],\n",
       "       [232.1  ,   8.6  ,   8.7  ],\n",
       "       [218.4  ,  27.7  ,  53.4  ],\n",
       "       [286.   ,  13.9  ,   3.7  ],\n",
       "       [109.8  ,  14.3  ,  31.7  ],\n",
       "       [ 25.   ,  11.   ,  29.7  ],\n",
       "       [204.1  ,  32.9  ,  46.   ],\n",
       "       [217.7  ,  33.5  ,  59.   ],\n",
       "       [165.6  ,  10.   ,  17.6  ],\n",
       "       [280.2  ,  10.1  ,  21.4  ]])"
      ]
     },
     "execution_count": 25,
     "metadata": {},
     "output_type": "execute_result"
    }
   ],
   "source": [
    "x_train"
   ]
  },
  {
   "cell_type": "markdown",
   "id": "eff8f611",
   "metadata": {},
   "source": [
    "#use LinearRegression"
   ]
  },
  {
   "cell_type": "code",
   "execution_count": 26,
   "id": "28e252f5",
   "metadata": {},
   "outputs": [
    {
     "data": {
      "text/plain": [
       "LinearRegression()"
      ]
     },
     "execution_count": 26,
     "metadata": {},
     "output_type": "execute_result"
    }
   ],
   "source": [
    "#making model\n",
    "from sklearn.linear_model import LinearRegression\n",
    "reg=LinearRegression()\n",
    "reg.fit(x_train,y_train)"
   ]
  },
  {
   "cell_type": "code",
   "execution_count": 27,
   "id": "3a6860e0",
   "metadata": {},
   "outputs": [],
   "source": [
    "y_pred=reg.predict(x_test)"
   ]
  },
  {
   "cell_type": "code",
   "execution_count": 28,
   "id": "74692fb8",
   "metadata": {},
   "outputs": [
    {
     "data": {
      "text/plain": [
       "array([17.20328757, 20.56926991, 23.72787328,  9.53036563, 21.54880054,\n",
       "       12.81369502, 21.07701133,  8.74057557, 17.10601541, 16.6972582 ,\n",
       "        8.91439449,  8.58270045, 18.46208272,  8.12511787, 12.65633499,\n",
       "       14.97068492,  8.35876805, 17.81621067, 11.12537509, 20.34970681,\n",
       "       21.03821408, 12.36686819, 10.96094187, 22.59681171,  9.35335077,\n",
       "        7.97842397, 20.87306829, 13.74929939, 10.83177946,  7.93871154,\n",
       "       15.89103694, 10.67840763, 21.00058333, 10.93893211, 21.54249361,\n",
       "       21.03036078, 12.16401463, 22.92103832, 12.53608349,  6.53503409,\n",
       "       11.93179899, 15.2049702 , 10.07556757,  9.50189306, 17.1144975 ,\n",
       "        7.25570082, 10.51609298, 15.22562503, 11.22711867, 11.75115678,\n",
       "       14.00484084, 14.58189995, 10.88747107,  9.57830857,  9.02020563,\n",
       "       12.52783065, 10.49350717, 25.06350461,  7.96226127, 15.71400995])"
      ]
     },
     "execution_count": 28,
     "metadata": {},
     "output_type": "execute_result"
    }
   ],
   "source": [
    "y_pred"
   ]
  },
  {
   "cell_type": "code",
   "execution_count": 29,
   "id": "8d133a31",
   "metadata": {},
   "outputs": [
    {
     "data": {
      "text/plain": [
       "0.9079419839433419"
      ]
     },
     "execution_count": 29,
     "metadata": {},
     "output_type": "execute_result"
    }
   ],
   "source": [
    "#check r2 score\n",
    "from sklearn.metrics import r2_score\n",
    "r2=r2_score(y_test,y_pred)\n",
    "r2"
   ]
  },
  {
   "cell_type": "markdown",
   "id": "b34a694e",
   "metadata": {},
   "source": [
    "#Use ridge and lasso method"
   ]
  },
  {
   "cell_type": "code",
   "execution_count": 30,
   "id": "9994ddd5",
   "metadata": {},
   "outputs": [],
   "source": [
    "from sklearn.linear_model import Ridge,Lasso\n",
    "ridge_reg=Ridge()\n",
    "lasso_reg=Lasso()"
   ]
  },
  {
   "cell_type": "code",
   "execution_count": 31,
   "id": "773411b1",
   "metadata": {},
   "outputs": [],
   "source": [
    "from sklearn.model_selection import GridSearchCV"
   ]
  },
  {
   "cell_type": "code",
   "execution_count": 32,
   "id": "b769f14f",
   "metadata": {},
   "outputs": [],
   "source": [
    "alpha_values=[0.01,0.1,1.0,10.0,100.0]\n",
    "ridge_param={'alpha':alpha_values}\n",
    "lasso_param={'alpha':alpha_values}"
   ]
  },
  {
   "cell_type": "code",
   "execution_count": 33,
   "id": "464fc76d",
   "metadata": {},
   "outputs": [],
   "source": [
    "ridge_grid=GridSearchCV(ridge_reg,ridge_param,cv=5,scoring='r2')\n",
    "lasso_grid=GridSearchCV(lasso_reg,lasso_param,cv=5,scoring='r2')"
   ]
  },
  {
   "cell_type": "code",
   "execution_count": 34,
   "id": "4c45ceae",
   "metadata": {},
   "outputs": [
    {
     "data": {
      "text/plain": [
       "GridSearchCV(cv=5, estimator=Ridge(),\n",
       "             param_grid={'alpha': [0.01, 0.1, 1.0, 10.0, 100.0]}, scoring='r2')"
      ]
     },
     "execution_count": 34,
     "metadata": {},
     "output_type": "execute_result"
    }
   ],
   "source": [
    "ridge_grid.fit(x,y)"
   ]
  },
  {
   "cell_type": "code",
   "execution_count": 35,
   "id": "01804db3",
   "metadata": {},
   "outputs": [
    {
     "data": {
      "text/plain": [
       "GridSearchCV(cv=5, estimator=Lasso(),\n",
       "             param_grid={'alpha': [0.01, 0.1, 1.0, 10.0, 100.0]}, scoring='r2')"
      ]
     },
     "execution_count": 35,
     "metadata": {},
     "output_type": "execute_result"
    }
   ],
   "source": [
    "lasso_grid.fit(x,y)"
   ]
  },
  {
   "cell_type": "code",
   "execution_count": 36,
   "id": "c2fa1548",
   "metadata": {},
   "outputs": [
    {
     "data": {
      "text/plain": [
       "100.0"
      ]
     },
     "execution_count": 36,
     "metadata": {},
     "output_type": "execute_result"
    }
   ],
   "source": [
    "#to check best alpha value\n",
    "ridge_best_alpha=ridge_grid.best_params_['alpha']\n",
    "ridge_best_alpha"
   ]
  },
  {
   "cell_type": "code",
   "execution_count": 37,
   "id": "d7c54cec",
   "metadata": {},
   "outputs": [
    {
     "data": {
      "text/plain": [
       "1.0"
      ]
     },
     "execution_count": 37,
     "metadata": {},
     "output_type": "execute_result"
    }
   ],
   "source": [
    "lasso_best_alpha=lasso_grid.best_params_['alpha']\n",
    "lasso_best_alpha"
   ]
  },
  {
   "cell_type": "code",
   "execution_count": 38,
   "id": "7e7a861a",
   "metadata": {},
   "outputs": [],
   "source": [
    "#making best efficient model\n",
    "ridge_reg_best=Ridge(alpha=ridge_best_alpha)\n",
    "lasso_reg_best=Lasso(alpha=lasso_best_alpha)"
   ]
  },
  {
   "cell_type": "code",
   "execution_count": 39,
   "id": "9d4b6559",
   "metadata": {},
   "outputs": [
    {
     "data": {
      "text/plain": [
       "Ridge(alpha=100.0)"
      ]
     },
     "execution_count": 39,
     "metadata": {},
     "output_type": "execute_result"
    }
   ],
   "source": [
    "ridge_reg_best.fit(x_train,y_train)"
   ]
  },
  {
   "cell_type": "code",
   "execution_count": 40,
   "id": "f8532532",
   "metadata": {},
   "outputs": [
    {
     "data": {
      "text/plain": [
       "Lasso()"
      ]
     },
     "execution_count": 40,
     "metadata": {},
     "output_type": "execute_result"
    }
   ],
   "source": [
    "lasso_reg_best.fit(x_train,y_train)"
   ]
  },
  {
   "cell_type": "code",
   "execution_count": 41,
   "id": "2992ad67",
   "metadata": {},
   "outputs": [
    {
     "data": {
      "text/plain": [
       "array([17.20196214, 20.56187744, 23.72692877,  9.5266378 , 21.53719704,\n",
       "       12.81117173, 21.06910858,  8.74429572, 17.11223599, 16.69773866,\n",
       "        8.91205634,  8.58946615, 18.47362581,  8.12135616, 12.66413303,\n",
       "       14.9769549 ,  8.35806001, 17.81508078, 11.1268577 , 20.3467236 ,\n",
       "       21.0381427 , 12.36210498, 10.95343483, 22.59500278,  9.3566111 ,\n",
       "        7.98596154, 20.86599734, 13.75123018, 10.83594424,  7.93541544,\n",
       "       15.89818341, 10.67876501, 20.99307842, 10.93593926, 21.54649711,\n",
       "       21.02440417, 12.15373298, 22.92111654, 12.53760503,  6.54269638,\n",
       "       11.93726219, 15.20852805, 10.07487841,  9.50521827, 17.12127721,\n",
       "        7.2620516 , 10.51980956, 15.22468692, 11.23418402, 11.74871227,\n",
       "       13.9965378 , 14.58676741, 10.88146642,  9.57423703,  9.02767815,\n",
       "       12.53463968, 10.4947701 , 25.05791186,  7.96272314, 15.71968297])"
      ]
     },
     "execution_count": 41,
     "metadata": {},
     "output_type": "execute_result"
    }
   ],
   "source": [
    "#predict y for ridge\n",
    "y_test_pred_ridge=ridge_reg_best.predict(x_test)\n",
    "y_test_pred_ridge"
   ]
  },
  {
   "cell_type": "code",
   "execution_count": 42,
   "id": "3a7a8ded",
   "metadata": {},
   "outputs": [
    {
     "data": {
      "text/plain": [
       "array([21.10042893, 16.97697041, 12.91091253, 10.19867285, 20.80399281,\n",
       "        7.58777719, 23.29246261,  7.16462522, 12.49790491, 10.12983748,\n",
       "       11.09943222,  9.09472478, 16.90575694, 17.97937554, 15.98359094,\n",
       "       18.14997768, 15.47296222, 19.10357719, 17.56811303, 21.76616581,\n",
       "       10.97614488, 14.20510989, 10.87427513, 18.05488029,  9.90865815,\n",
       "       17.59204952, 13.42774289, 23.52783603, 11.05472189, 23.60885043,\n",
       "        7.5158512 , 19.44550701, 24.60257789, 20.9917337 , 18.70288342,\n",
       "       16.41294677, 13.98202594, 11.35284586, 19.51181094, 15.4665096 ,\n",
       "       16.08129092, 10.36627727, 20.28612709, 12.5120005 , 21.19733523,\n",
       "       11.75312306,  9.07644587, 19.39055404, 15.71919532, 18.41516331,\n",
       "        9.69629911, 21.57987142, 24.84889946, 18.30397497, 18.88101155,\n",
       "       14.94696725, 16.37388145,  9.08840791, 17.28961356, 21.03614503,\n",
       "       18.14919728,  5.69637212,  6.15434652, 14.66265307, 19.35993651,\n",
       "       18.93149858, 20.78536765, 23.17450451, 18.35371266, 21.0876376 ,\n",
       "       19.23196189, 21.97871156, 11.99499346, 17.01869878, 16.92059528,\n",
       "        9.84322086, 17.61031439, 17.4037447 , 19.77987507, 20.35053729,\n",
       "       13.45118125, 20.02040432, 20.48224133,  9.84431915, 11.73529699,\n",
       "       10.05120743, 13.25836279, 18.21364037,  6.71369749, 13.24757472,\n",
       "       21.30402455, 17.24819923, 15.96224631,  5.38340798, 10.77617405,\n",
       "       19.09995365, 16.12394129, 19.65571873, 24.38355038,  9.68354019,\n",
       "       24.94849196, 11.25471824, 16.52039575, 25.22088068, 13.30387461,\n",
       "       21.88561306,  9.81174793, 16.08205897, 10.33347094, 21.43078287,\n",
       "       18.99592549, 12.75942366, 18.19350731, 14.12619975, 16.10289964,\n",
       "        6.3521914 ,  9.54551361, 14.18419382, 13.11285602, 17.95768942,\n",
       "       11.53030835, 20.94708531,  9.92530105,  8.84827806, 12.53099317,\n",
       "       16.71096819, 16.65091688, 13.87842859, 15.39571731, 18.78445043,\n",
       "        8.4140593 , 18.11789901, 19.76812986, 21.50037431, 12.36083608,\n",
       "        7.45351861, 19.45571615, 20.37581854, 14.77895578, 20.97844088])"
      ]
     },
     "execution_count": 42,
     "metadata": {},
     "output_type": "execute_result"
    }
   ],
   "source": [
    "y_train_pred_ridge=ridge_reg_best.predict(x_train)\n",
    "y_train_pred_ridge"
   ]
  },
  {
   "cell_type": "code",
   "execution_count": 43,
   "id": "3b83d36a",
   "metadata": {},
   "outputs": [
    {
     "data": {
      "text/plain": [
       "array([17.13414327, 20.43344187, 23.67414292,  9.46790675, 21.48463802,\n",
       "       12.74036434, 20.99500645,  8.8167184 , 17.20554616, 16.69693044,\n",
       "        8.96702017,  8.6634391 , 18.44599186,  8.1480009 , 12.74780761,\n",
       "       15.0228776 ,  8.33749509, 17.83806473, 11.14218446, 20.35610219,\n",
       "       20.92565082, 12.32330351, 10.93556448, 22.46857083,  9.46456395,\n",
       "        8.08725901, 20.7844122 , 13.81809326, 10.89141654,  7.98357985,\n",
       "       15.98307508, 10.71770083, 20.84637453, 10.7786277 , 21.55663355,\n",
       "       21.01897265, 12.11662015, 22.84055271, 12.61397624,  6.64918395,\n",
       "       12.00915704, 15.2965181 , 10.06625403,  9.57301441, 17.21381883,\n",
       "        7.37150543, 10.53707861, 15.24236815, 11.295478  , 11.76581818,\n",
       "       13.91373515, 14.67277321, 10.73047729,  9.49974529,  9.14199132,\n",
       "       12.59863561, 10.55478574, 24.94216107,  8.01020623, 15.82713524])"
      ]
     },
     "execution_count": 43,
     "metadata": {},
     "output_type": "execute_result"
    }
   ],
   "source": [
    "#predict y for lasso\n",
    "y_test_pred_lasso=lasso_reg_best.predict(x_test)\n",
    "y_test_pred_lasso"
   ]
  },
  {
   "cell_type": "code",
   "execution_count": 44,
   "id": "deeb58f5",
   "metadata": {},
   "outputs": [
    {
     "data": {
      "text/plain": [
       "array([21.17307501, 16.99639793, 12.92264168, 10.11058485, 20.89567252,\n",
       "        7.64105018, 23.31088313,  7.23003866, 12.60100394, 10.12218237,\n",
       "       11.19867275,  9.22086336, 16.92916481, 17.92748411, 15.85670428,\n",
       "       18.18723726, 15.48268072, 19.0752427 , 17.596926  , 21.71729826,\n",
       "       10.84452441, 14.21724471, 10.91990775, 18.05257644, 10.00209644,\n",
       "       17.54694291, 13.35870271, 23.48616397, 11.04403581, 23.48866255,\n",
       "        7.52450946, 19.32319515, 24.54203283, 21.04291198, 18.73869828,\n",
       "       16.41054239, 13.99499274, 11.34040319, 19.53956072, 15.42919202,\n",
       "       16.07671444, 10.45063497, 20.23194371, 12.62569986, 21.21624193,\n",
       "       11.77528951,  9.15825906, 19.41531505, 15.79224213, 18.50014738,\n",
       "        9.6738643 , 21.45605627, 24.70977774, 18.23185629, 18.83689954,\n",
       "       14.9400957 , 16.30941556,  9.07145218, 17.27921479, 21.02593976,\n",
       "       18.14620086,  5.80039316,  6.25255841, 14.56333209, 19.43816055,\n",
       "       18.95420185, 20.78348967, 23.05102453, 18.40304495, 21.02651137,\n",
       "       19.17962312, 21.92539135, 12.06565409, 17.05835486, 16.97541154,\n",
       "        9.86184081, 17.49973072, 17.27549646, 19.64838015, 20.2833302 ,\n",
       "       13.56192667, 20.09451656, 20.41772929,  9.88397129, 11.74472497,\n",
       "       10.17381266, 13.30660723, 18.21701771,  6.7998913 , 13.172115  ,\n",
       "       21.28714639, 17.31088601, 15.84450163,  5.52289701, 10.87682419,\n",
       "       19.10770365, 16.10334411, 19.69660865, 24.27057436,  9.68046191,\n",
       "       24.82618038, 11.15334276, 16.59832308, 25.06844193, 13.32354897,\n",
       "       21.87964812,  9.91241926, 16.14279007, 10.44257575, 21.31941845,\n",
       "       18.98308299, 12.68660804, 18.26189062, 14.16592403, 16.11937744,\n",
       "        6.43258913,  9.57430366, 14.07376513, 13.20219645, 17.93476378,\n",
       "       11.45991249, 20.86016081,  9.94394095,  8.84197023, 12.55714167,\n",
       "       16.75049413, 16.56157504, 13.92029738, 15.28385271, 18.80305871,\n",
       "        8.40013969, 18.1990456 , 19.7078848 , 21.56559171, 12.39545209,\n",
       "        7.5117052 , 19.39071252, 20.28560849, 14.84688366, 21.02822964])"
      ]
     },
     "execution_count": 44,
     "metadata": {},
     "output_type": "execute_result"
    }
   ],
   "source": [
    "y_train_pred_lasso=lasso_reg_best.predict(x_train)\n",
    "y_train_pred_lasso"
   ]
  },
  {
   "cell_type": "code",
   "execution_count": 45,
   "id": "fef34c59",
   "metadata": {},
   "outputs": [
    {
     "name": "stdout",
     "output_type": "stream",
     "text": [
      "r2_test:  0.9078675084312049\n",
      "r2_train:  0.892341649755272\n"
     ]
    }
   ],
   "source": [
    "#check r2 score for ridge\n",
    "r2_test=r2_score(y_test,y_test_pred_ridge)\n",
    "r2_train=r2_score(y_train,y_train_pred_ridge)\n",
    "print('r2_test: ',r2_test)\n",
    "print('r2_train: ',r2_train)"
   ]
  },
  {
   "cell_type": "code",
   "execution_count": 46,
   "id": "c98f934a",
   "metadata": {},
   "outputs": [
    {
     "name": "stdout",
     "output_type": "stream",
     "text": [
      "r2_test:  0.9085589656843029\n",
      "r2_train:  0.8921281813456953\n"
     ]
    }
   ],
   "source": [
    "#check r2 score for lasso\n",
    "r2_test=r2_score(y_test,y_test_pred_lasso)\n",
    "r2_train=r2_score(y_train,y_train_pred_lasso)\n",
    "print('r2_test: ',r2_test)\n",
    "print('r2_train: ',r2_train)"
   ]
  },
  {
   "cell_type": "code",
   "execution_count": null,
   "id": "eaa79d9d",
   "metadata": {},
   "outputs": [],
   "source": []
  }
 ],
 "metadata": {
  "kernelspec": {
   "display_name": "Python 3 (ipykernel)",
   "language": "python",
   "name": "python3"
  },
  "language_info": {
   "codemirror_mode": {
    "name": "ipython",
    "version": 3
   },
   "file_extension": ".py",
   "mimetype": "text/x-python",
   "name": "python",
   "nbconvert_exporter": "python",
   "pygments_lexer": "ipython3",
   "version": "3.9.13"
  }
 },
 "nbformat": 4,
 "nbformat_minor": 5
}
